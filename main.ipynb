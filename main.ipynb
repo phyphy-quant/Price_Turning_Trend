{
 "cells": [
  {
   "cell_type": "code",
   "metadata": {
    "ExecuteTime": {
     "end_time": "2024-06-22T20:57:42.903719Z",
     "start_time": "2024-06-22T20:57:42.392070Z"
    }
   },
   "source": [
    "import pandas as pd\n",
    "import pandas_ta as ta\n",
    "import matplotlib.pyplot as plt\n",
    "from fetch_kline import fetch_kline_price_data\n",
    "from get_direction import get_direction\n",
    "from backtesting import backtesting\n",
    "from plot_chart import plot_chart\n",
    "from process_results import process_results\n",
    "from calc_metrics import calc_metrics\n",
    "\n",
    "ticker = 'BTCUSDT'\n",
    "time_interval = '15m'\n",
    "start_date = '2023-01-01'\n",
    "end_date = '2024-06-09'\n",
    "filename = f'BTCUSDT_historical_data_{start_date}_to_{end_date}.csv'\n",
    "turning_pct = 0.05\n",
    "atr_mode = True\n",
    "chart_type = 'OHLC'\n",
    "start_filter_date = '2023-01-01 00:00:00'\n",
    "end_filter_date = '2024-06-09 10:15:00'"
   ],
   "outputs": [],
   "execution_count": 1
  },
  {
   "cell_type": "code",
   "metadata": {
    "ExecuteTime": {
     "end_time": "2024-06-22T20:57:58.513104Z",
     "start_time": "2024-06-22T20:57:47.858081Z"
    }
   },
   "source": [
    "# 爬取數據\n",
    "df = fetch_kline_price_data(ticker=ticker, time_interval=time_interval, start_date=start_date, filename=filename)"
   ],
   "outputs": [
    {
     "name": "stdout",
     "output_type": "stream",
     "text": [
      "2023-01-01 00:00:00\n",
      "2023-01-16 14:59:59.999000\n",
      "2023-02-01 05:59:59.999000\n",
      "2023-02-16 20:59:59.999000\n",
      "2023-03-04 11:59:59.999000\n",
      "2023-03-20 02:59:59.999000\n",
      "2023-04-04 17:59:59.999000\n",
      "2023-04-20 08:59:59.999000\n",
      "2023-05-05 23:59:59.999000\n",
      "2023-05-21 14:59:59.999000\n",
      "2023-06-06 05:59:59.999000\n",
      "2023-06-21 20:59:59.999000\n",
      "2023-07-07 11:59:59.999000\n",
      "2023-07-23 02:59:59.999000\n",
      "2023-08-07 17:59:59.999000\n",
      "2023-08-23 08:59:59.999000\n",
      "2023-09-07 23:59:59.999000\n",
      "2023-09-23 14:59:59.999000\n",
      "2023-10-09 05:59:59.999000\n",
      "2023-10-24 20:59:59.999000\n",
      "2023-11-09 11:59:59.999000\n",
      "2023-11-25 02:59:59.999000\n",
      "2023-12-10 17:59:59.999000\n",
      "2023-12-26 08:59:59.999000\n",
      "2024-01-10 23:59:59.999000\n",
      "2024-01-26 14:59:59.999000\n",
      "2024-02-11 05:59:59.999000\n",
      "2024-02-26 20:59:59.999000\n",
      "2024-03-13 11:59:59.999000\n",
      "2024-03-29 02:59:59.999000\n",
      "2024-04-13 17:59:59.999000\n",
      "2024-04-29 08:59:59.999000\n",
      "2024-05-14 23:59:59.999000\n",
      "2024-05-30 14:59:59.999000\n",
      "2024-06-15 05:59:59.999000\n"
     ]
    }
   ],
   "execution_count": 2
  },
  {
   "cell_type": "code",
   "metadata": {
    "ExecuteTime": {
     "end_time": "2024-06-22T20:58:02.498598Z",
     "start_time": "2024-06-22T20:58:02.473500Z"
    }
   },
   "source": [
    "# 過濾數據\n",
    "df['date'] = pd.to_datetime(df['Open time'])\n",
    "df = df[(df['date'] >= start_filter_date) & (df['date'] < end_filter_date)]\n",
    "df.columns = ['date', 'open', 'high', 'low', 'close', 'volume', 'atr']\n",
    "df['atr'] = ta.atr(df['high'], df['low'], df['close'], length=14)\n",
    "df = df[df['atr'].notna()]\n",
    "df['atr'] = df['atr'] * 3\n",
    "df = df.reset_index(drop=True)\n",
    "df.head()"
   ],
   "outputs": [
    {
     "data": {
      "text/plain": [
       "                 date     open     high      low    close    volume        atr\n",
       "0 2023-01-01 03:30:00  16523.8  16531.8  16523.5  16529.4   432.007  45.113884\n",
       "1 2023-01-01 03:45:00  16529.3  16532.3  16526.0  16529.3   412.820  42.323285\n",
       "2 2023-01-01 04:00:00  16529.2  16530.4  16520.2  16520.2   574.594  41.117517\n",
       "3 2023-01-01 04:15:00  16520.2  16523.6  16512.0  16513.6  1166.501  40.487541\n",
       "4 2023-01-01 04:30:00  16513.5  16519.8  16512.4  16517.1   631.058  38.714099"
      ],
      "text/html": [
       "<div>\n",
       "<style scoped>\n",
       "    .dataframe tbody tr th:only-of-type {\n",
       "        vertical-align: middle;\n",
       "    }\n",
       "\n",
       "    .dataframe tbody tr th {\n",
       "        vertical-align: top;\n",
       "    }\n",
       "\n",
       "    .dataframe thead th {\n",
       "        text-align: right;\n",
       "    }\n",
       "</style>\n",
       "<table border=\"1\" class=\"dataframe\">\n",
       "  <thead>\n",
       "    <tr style=\"text-align: right;\">\n",
       "      <th></th>\n",
       "      <th>date</th>\n",
       "      <th>open</th>\n",
       "      <th>high</th>\n",
       "      <th>low</th>\n",
       "      <th>close</th>\n",
       "      <th>volume</th>\n",
       "      <th>atr</th>\n",
       "    </tr>\n",
       "  </thead>\n",
       "  <tbody>\n",
       "    <tr>\n",
       "      <th>0</th>\n",
       "      <td>2023-01-01 03:30:00</td>\n",
       "      <td>16523.8</td>\n",
       "      <td>16531.8</td>\n",
       "      <td>16523.5</td>\n",
       "      <td>16529.4</td>\n",
       "      <td>432.007</td>\n",
       "      <td>45.113884</td>\n",
       "    </tr>\n",
       "    <tr>\n",
       "      <th>1</th>\n",
       "      <td>2023-01-01 03:45:00</td>\n",
       "      <td>16529.3</td>\n",
       "      <td>16532.3</td>\n",
       "      <td>16526.0</td>\n",
       "      <td>16529.3</td>\n",
       "      <td>412.820</td>\n",
       "      <td>42.323285</td>\n",
       "    </tr>\n",
       "    <tr>\n",
       "      <th>2</th>\n",
       "      <td>2023-01-01 04:00:00</td>\n",
       "      <td>16529.2</td>\n",
       "      <td>16530.4</td>\n",
       "      <td>16520.2</td>\n",
       "      <td>16520.2</td>\n",
       "      <td>574.594</td>\n",
       "      <td>41.117517</td>\n",
       "    </tr>\n",
       "    <tr>\n",
       "      <th>3</th>\n",
       "      <td>2023-01-01 04:15:00</td>\n",
       "      <td>16520.2</td>\n",
       "      <td>16523.6</td>\n",
       "      <td>16512.0</td>\n",
       "      <td>16513.6</td>\n",
       "      <td>1166.501</td>\n",
       "      <td>40.487541</td>\n",
       "    </tr>\n",
       "    <tr>\n",
       "      <th>4</th>\n",
       "      <td>2023-01-01 04:30:00</td>\n",
       "      <td>16513.5</td>\n",
       "      <td>16519.8</td>\n",
       "      <td>16512.4</td>\n",
       "      <td>16517.1</td>\n",
       "      <td>631.058</td>\n",
       "      <td>38.714099</td>\n",
       "    </tr>\n",
       "  </tbody>\n",
       "</table>\n",
       "</div>"
      ]
     },
     "execution_count": 3,
     "metadata": {},
     "output_type": "execute_result"
    }
   ],
   "execution_count": 3
  },
  {
   "cell_type": "code",
   "metadata": {
    "ExecuteTime": {
     "end_time": "2024-06-22T20:58:07.280179Z",
     "start_time": "2024-06-22T20:58:07.085593Z"
    }
   },
   "source": [
    "# 計算方向\n",
    "df, tops, bottoms = get_direction(df, turning_pct, atr_mode, chart_type)\n",
    "directions = df['direction']\n",
    "df.head()"
   ],
   "outputs": [
    {
     "data": {
      "text/plain": [
       "                 date     open     high      low    close    volume  \\\n",
       "0 2023-01-01 03:30:00  16523.8  16531.8  16523.5  16529.4   432.007   \n",
       "1 2023-01-01 03:45:00  16529.3  16532.3  16526.0  16529.3   412.820   \n",
       "2 2023-01-01 04:00:00  16529.2  16530.4  16520.2  16520.2   574.594   \n",
       "3 2023-01-01 04:15:00  16520.2  16523.6  16512.0  16513.6  1166.501   \n",
       "4 2023-01-01 04:30:00  16513.5  16519.8  16512.4  16517.1   631.058   \n",
       "\n",
       "         atr direction  \n",
       "0  45.113884        up  \n",
       "1  42.323285        up  \n",
       "2  41.117517        up  \n",
       "3  40.487541        up  \n",
       "4  38.714099        up  "
      ],
      "text/html": [
       "<div>\n",
       "<style scoped>\n",
       "    .dataframe tbody tr th:only-of-type {\n",
       "        vertical-align: middle;\n",
       "    }\n",
       "\n",
       "    .dataframe tbody tr th {\n",
       "        vertical-align: top;\n",
       "    }\n",
       "\n",
       "    .dataframe thead th {\n",
       "        text-align: right;\n",
       "    }\n",
       "</style>\n",
       "<table border=\"1\" class=\"dataframe\">\n",
       "  <thead>\n",
       "    <tr style=\"text-align: right;\">\n",
       "      <th></th>\n",
       "      <th>date</th>\n",
       "      <th>open</th>\n",
       "      <th>high</th>\n",
       "      <th>low</th>\n",
       "      <th>close</th>\n",
       "      <th>volume</th>\n",
       "      <th>atr</th>\n",
       "      <th>direction</th>\n",
       "    </tr>\n",
       "  </thead>\n",
       "  <tbody>\n",
       "    <tr>\n",
       "      <th>0</th>\n",
       "      <td>2023-01-01 03:30:00</td>\n",
       "      <td>16523.8</td>\n",
       "      <td>16531.8</td>\n",
       "      <td>16523.5</td>\n",
       "      <td>16529.4</td>\n",
       "      <td>432.007</td>\n",
       "      <td>45.113884</td>\n",
       "      <td>up</td>\n",
       "    </tr>\n",
       "    <tr>\n",
       "      <th>1</th>\n",
       "      <td>2023-01-01 03:45:00</td>\n",
       "      <td>16529.3</td>\n",
       "      <td>16532.3</td>\n",
       "      <td>16526.0</td>\n",
       "      <td>16529.3</td>\n",
       "      <td>412.820</td>\n",
       "      <td>42.323285</td>\n",
       "      <td>up</td>\n",
       "    </tr>\n",
       "    <tr>\n",
       "      <th>2</th>\n",
       "      <td>2023-01-01 04:00:00</td>\n",
       "      <td>16529.2</td>\n",
       "      <td>16530.4</td>\n",
       "      <td>16520.2</td>\n",
       "      <td>16520.2</td>\n",
       "      <td>574.594</td>\n",
       "      <td>41.117517</td>\n",
       "      <td>up</td>\n",
       "    </tr>\n",
       "    <tr>\n",
       "      <th>3</th>\n",
       "      <td>2023-01-01 04:15:00</td>\n",
       "      <td>16520.2</td>\n",
       "      <td>16523.6</td>\n",
       "      <td>16512.0</td>\n",
       "      <td>16513.6</td>\n",
       "      <td>1166.501</td>\n",
       "      <td>40.487541</td>\n",
       "      <td>up</td>\n",
       "    </tr>\n",
       "    <tr>\n",
       "      <th>4</th>\n",
       "      <td>2023-01-01 04:30:00</td>\n",
       "      <td>16513.5</td>\n",
       "      <td>16519.8</td>\n",
       "      <td>16512.4</td>\n",
       "      <td>16517.1</td>\n",
       "      <td>631.058</td>\n",
       "      <td>38.714099</td>\n",
       "      <td>up</td>\n",
       "    </tr>\n",
       "  </tbody>\n",
       "</table>\n",
       "</div>"
      ]
     },
     "execution_count": 4,
     "metadata": {},
     "output_type": "execute_result"
    }
   ],
   "execution_count": 4
  },
  {
   "cell_type": "code",
   "execution_count": 5,
   "metadata": {},
   "outputs": [
    {
     "name": "stdout",
     "output_type": "stream",
     "text": [
      "Final Balance: 310538.5417104103\n"
     ]
    },
    {
     "data": {
      "text/html": [
       "<div>\n",
       "<style scoped>\n",
       "    .dataframe tbody tr th:only-of-type {\n",
       "        vertical-align: middle;\n",
       "    }\n",
       "\n",
       "    .dataframe tbody tr th {\n",
       "        vertical-align: top;\n",
       "    }\n",
       "\n",
       "    .dataframe thead th {\n",
       "        text-align: right;\n",
       "    }\n",
       "</style>\n",
       "<table border=\"1\" class=\"dataframe\">\n",
       "  <thead>\n",
       "    <tr style=\"text-align: right;\">\n",
       "      <th></th>\n",
       "      <th>date</th>\n",
       "      <th>open</th>\n",
       "      <th>high</th>\n",
       "      <th>low</th>\n",
       "      <th>close</th>\n",
       "      <th>volume</th>\n",
       "      <th>atr</th>\n",
       "      <th>direction</th>\n",
       "      <th>signal</th>\n",
       "      <th>buy signal</th>\n",
       "      <th>buy position</th>\n",
       "      <th>sell signals</th>\n",
       "      <th>sell position</th>\n",
       "      <th>entry price</th>\n",
       "      <th>exit price</th>\n",
       "      <th>PnL</th>\n",
       "    </tr>\n",
       "  </thead>\n",
       "  <tbody>\n",
       "    <tr>\n",
       "      <th>0</th>\n",
       "      <td>2023-01-01 03:30:00</td>\n",
       "      <td>16523.8</td>\n",
       "      <td>16531.8</td>\n",
       "      <td>16523.5</td>\n",
       "      <td>16529.4</td>\n",
       "      <td>432.007</td>\n",
       "      <td>45.113884</td>\n",
       "      <td>up</td>\n",
       "      <td>0</td>\n",
       "      <td>0</td>\n",
       "      <td>None</td>\n",
       "      <td>0</td>\n",
       "      <td>None</td>\n",
       "      <td>NaN</td>\n",
       "      <td>NaN</td>\n",
       "      <td>NaN</td>\n",
       "    </tr>\n",
       "    <tr>\n",
       "      <th>1</th>\n",
       "      <td>2023-01-01 03:45:00</td>\n",
       "      <td>16529.3</td>\n",
       "      <td>16532.3</td>\n",
       "      <td>16526.0</td>\n",
       "      <td>16529.3</td>\n",
       "      <td>412.820</td>\n",
       "      <td>42.323285</td>\n",
       "      <td>up</td>\n",
       "      <td>0</td>\n",
       "      <td>0</td>\n",
       "      <td>None</td>\n",
       "      <td>0</td>\n",
       "      <td>None</td>\n",
       "      <td>NaN</td>\n",
       "      <td>NaN</td>\n",
       "      <td>NaN</td>\n",
       "    </tr>\n",
       "    <tr>\n",
       "      <th>2</th>\n",
       "      <td>2023-01-01 04:00:00</td>\n",
       "      <td>16529.2</td>\n",
       "      <td>16530.4</td>\n",
       "      <td>16520.2</td>\n",
       "      <td>16520.2</td>\n",
       "      <td>574.594</td>\n",
       "      <td>41.117517</td>\n",
       "      <td>up</td>\n",
       "      <td>0</td>\n",
       "      <td>0</td>\n",
       "      <td>None</td>\n",
       "      <td>0</td>\n",
       "      <td>None</td>\n",
       "      <td>NaN</td>\n",
       "      <td>NaN</td>\n",
       "      <td>NaN</td>\n",
       "    </tr>\n",
       "    <tr>\n",
       "      <th>3</th>\n",
       "      <td>2023-01-01 04:15:00</td>\n",
       "      <td>16520.2</td>\n",
       "      <td>16523.6</td>\n",
       "      <td>16512.0</td>\n",
       "      <td>16513.6</td>\n",
       "      <td>1166.501</td>\n",
       "      <td>40.487541</td>\n",
       "      <td>up</td>\n",
       "      <td>0</td>\n",
       "      <td>0</td>\n",
       "      <td>None</td>\n",
       "      <td>0</td>\n",
       "      <td>None</td>\n",
       "      <td>NaN</td>\n",
       "      <td>NaN</td>\n",
       "      <td>NaN</td>\n",
       "    </tr>\n",
       "    <tr>\n",
       "      <th>4</th>\n",
       "      <td>2023-01-01 04:30:00</td>\n",
       "      <td>16513.5</td>\n",
       "      <td>16519.8</td>\n",
       "      <td>16512.4</td>\n",
       "      <td>16517.1</td>\n",
       "      <td>631.058</td>\n",
       "      <td>38.714099</td>\n",
       "      <td>up</td>\n",
       "      <td>0</td>\n",
       "      <td>0</td>\n",
       "      <td>None</td>\n",
       "      <td>0</td>\n",
       "      <td>None</td>\n",
       "      <td>NaN</td>\n",
       "      <td>NaN</td>\n",
       "      <td>NaN</td>\n",
       "    </tr>\n",
       "  </tbody>\n",
       "</table>\n",
       "</div>"
      ],
      "text/plain": [
       "                 date     open     high      low    close    volume  \\\n",
       "0 2023-01-01 03:30:00  16523.8  16531.8  16523.5  16529.4   432.007   \n",
       "1 2023-01-01 03:45:00  16529.3  16532.3  16526.0  16529.3   412.820   \n",
       "2 2023-01-01 04:00:00  16529.2  16530.4  16520.2  16520.2   574.594   \n",
       "3 2023-01-01 04:15:00  16520.2  16523.6  16512.0  16513.6  1166.501   \n",
       "4 2023-01-01 04:30:00  16513.5  16519.8  16512.4  16517.1   631.058   \n",
       "\n",
       "         atr direction  signal  buy signal buy position  sell signals  \\\n",
       "0  45.113884        up       0           0         None             0   \n",
       "1  42.323285        up       0           0         None             0   \n",
       "2  41.117517        up       0           0         None             0   \n",
       "3  40.487541        up       0           0         None             0   \n",
       "4  38.714099        up       0           0         None             0   \n",
       "\n",
       "  sell position  entry price  exit price  PnL  \n",
       "0          None          NaN         NaN  NaN  \n",
       "1          None          NaN         NaN  NaN  \n",
       "2          None          NaN         NaN  NaN  \n",
       "3          None          NaN         NaN  NaN  \n",
       "4          None          NaN         NaN  NaN  "
      ]
     },
     "execution_count": 5,
     "metadata": {},
     "output_type": "execute_result"
    }
   ],
   "source": [
    "# 執行回測\n",
    "df, balance = backtesting(df, directions, turning_pct, atr_mode, chart_type)\n",
    "print(\"Final Balance:\", balance)\n",
    "df.head()"
   ]
  },
  {
   "cell_type": "code",
   "metadata": {
    "ExecuteTime": {
     "end_time": "2024-06-22T20:58:10.337569Z",
     "start_time": "2024-06-22T20:58:10.038912Z"
    }
   },
   "source": [
    "# 處理結果\n",
    "processed_df = process_results(df)\n",
    "processed_df.head()"
   ],
   "outputs": [
    {
     "ename": "KeyError",
     "evalue": "\"['entry price'] not in index\"",
     "output_type": "error",
     "traceback": [
      "\u001B[0;31m---------------------------------------------------------------------------\u001B[0m",
      "\u001B[0;31mKeyError\u001B[0m                                  Traceback (most recent call last)",
      "Cell \u001B[0;32mIn[5], line 2\u001B[0m\n\u001B[1;32m      1\u001B[0m \u001B[38;5;66;03m# 處理結果\u001B[39;00m\n\u001B[0;32m----> 2\u001B[0m processed_df \u001B[38;5;241m=\u001B[39m \u001B[43mprocess_results\u001B[49m\u001B[43m(\u001B[49m\u001B[43mdf\u001B[49m\u001B[43m)\u001B[49m\n\u001B[1;32m      3\u001B[0m processed_df\u001B[38;5;241m.\u001B[39mhead()\n",
      "File \u001B[0;32m~/PycharmProjects/Quant_Strategy/Price_Turning_Trend/process_results.py:4\u001B[0m, in \u001B[0;36mprocess_results\u001B[0;34m(df)\u001B[0m\n\u001B[1;32m      3\u001B[0m \u001B[38;5;28;01mdef\u001B[39;00m \u001B[38;5;21mprocess_results\u001B[39m(df):\n\u001B[0;32m----> 4\u001B[0m     entry_price_clean \u001B[38;5;241m=\u001B[39m \u001B[43mdf\u001B[49m\u001B[43m[\u001B[49m\u001B[43m[\u001B[49m\u001B[38;5;124;43m'\u001B[39;49m\u001B[38;5;124;43mdate\u001B[39;49m\u001B[38;5;124;43m'\u001B[39;49m\u001B[43m,\u001B[49m\u001B[43m \u001B[49m\u001B[38;5;124;43m'\u001B[39;49m\u001B[38;5;124;43mentry price\u001B[39;49m\u001B[38;5;124;43m'\u001B[39;49m\u001B[43m]\u001B[49m\u001B[43m]\u001B[49m\u001B[38;5;241m.\u001B[39mdropna()\u001B[38;5;241m.\u001B[39mreset_index(drop\u001B[38;5;241m=\u001B[39m\u001B[38;5;28;01mTrue\u001B[39;00m)\n\u001B[1;32m      5\u001B[0m     exit_price_clean \u001B[38;5;241m=\u001B[39m df[[\u001B[38;5;124m'\u001B[39m\u001B[38;5;124mdate\u001B[39m\u001B[38;5;124m'\u001B[39m, \u001B[38;5;124m'\u001B[39m\u001B[38;5;124mexit price\u001B[39m\u001B[38;5;124m'\u001B[39m]]\u001B[38;5;241m.\u001B[39mdropna()\u001B[38;5;241m.\u001B[39mreset_index(drop\u001B[38;5;241m=\u001B[39m\u001B[38;5;28;01mTrue\u001B[39;00m)\n\u001B[1;32m      6\u001B[0m     pnl_clean \u001B[38;5;241m=\u001B[39m df[[\u001B[38;5;124m'\u001B[39m\u001B[38;5;124mPnL\u001B[39m\u001B[38;5;124m'\u001B[39m]]\u001B[38;5;241m.\u001B[39mdropna()\u001B[38;5;241m.\u001B[39mreset_index(drop\u001B[38;5;241m=\u001B[39m\u001B[38;5;28;01mTrue\u001B[39;00m)\n",
      "File \u001B[0;32m~/PycharmProjects/Quant_Strategy/.venv/lib/python3.12/site-packages/pandas/core/frame.py:4108\u001B[0m, in \u001B[0;36mDataFrame.__getitem__\u001B[0;34m(self, key)\u001B[0m\n\u001B[1;32m   4106\u001B[0m     \u001B[38;5;28;01mif\u001B[39;00m is_iterator(key):\n\u001B[1;32m   4107\u001B[0m         key \u001B[38;5;241m=\u001B[39m \u001B[38;5;28mlist\u001B[39m(key)\n\u001B[0;32m-> 4108\u001B[0m     indexer \u001B[38;5;241m=\u001B[39m \u001B[38;5;28;43mself\u001B[39;49m\u001B[38;5;241;43m.\u001B[39;49m\u001B[43mcolumns\u001B[49m\u001B[38;5;241;43m.\u001B[39;49m\u001B[43m_get_indexer_strict\u001B[49m\u001B[43m(\u001B[49m\u001B[43mkey\u001B[49m\u001B[43m,\u001B[49m\u001B[43m \u001B[49m\u001B[38;5;124;43m\"\u001B[39;49m\u001B[38;5;124;43mcolumns\u001B[39;49m\u001B[38;5;124;43m\"\u001B[39;49m\u001B[43m)\u001B[49m[\u001B[38;5;241m1\u001B[39m]\n\u001B[1;32m   4110\u001B[0m \u001B[38;5;66;03m# take() does not accept boolean indexers\u001B[39;00m\n\u001B[1;32m   4111\u001B[0m \u001B[38;5;28;01mif\u001B[39;00m \u001B[38;5;28mgetattr\u001B[39m(indexer, \u001B[38;5;124m\"\u001B[39m\u001B[38;5;124mdtype\u001B[39m\u001B[38;5;124m\"\u001B[39m, \u001B[38;5;28;01mNone\u001B[39;00m) \u001B[38;5;241m==\u001B[39m \u001B[38;5;28mbool\u001B[39m:\n",
      "File \u001B[0;32m~/PycharmProjects/Quant_Strategy/.venv/lib/python3.12/site-packages/pandas/core/indexes/base.py:6200\u001B[0m, in \u001B[0;36mIndex._get_indexer_strict\u001B[0;34m(self, key, axis_name)\u001B[0m\n\u001B[1;32m   6197\u001B[0m \u001B[38;5;28;01melse\u001B[39;00m:\n\u001B[1;32m   6198\u001B[0m     keyarr, indexer, new_indexer \u001B[38;5;241m=\u001B[39m \u001B[38;5;28mself\u001B[39m\u001B[38;5;241m.\u001B[39m_reindex_non_unique(keyarr)\n\u001B[0;32m-> 6200\u001B[0m \u001B[38;5;28;43mself\u001B[39;49m\u001B[38;5;241;43m.\u001B[39;49m\u001B[43m_raise_if_missing\u001B[49m\u001B[43m(\u001B[49m\u001B[43mkeyarr\u001B[49m\u001B[43m,\u001B[49m\u001B[43m \u001B[49m\u001B[43mindexer\u001B[49m\u001B[43m,\u001B[49m\u001B[43m \u001B[49m\u001B[43maxis_name\u001B[49m\u001B[43m)\u001B[49m\n\u001B[1;32m   6202\u001B[0m keyarr \u001B[38;5;241m=\u001B[39m \u001B[38;5;28mself\u001B[39m\u001B[38;5;241m.\u001B[39mtake(indexer)\n\u001B[1;32m   6203\u001B[0m \u001B[38;5;28;01mif\u001B[39;00m \u001B[38;5;28misinstance\u001B[39m(key, Index):\n\u001B[1;32m   6204\u001B[0m     \u001B[38;5;66;03m# GH 42790 - Preserve name from an Index\u001B[39;00m\n",
      "File \u001B[0;32m~/PycharmProjects/Quant_Strategy/.venv/lib/python3.12/site-packages/pandas/core/indexes/base.py:6252\u001B[0m, in \u001B[0;36mIndex._raise_if_missing\u001B[0;34m(self, key, indexer, axis_name)\u001B[0m\n\u001B[1;32m   6249\u001B[0m     \u001B[38;5;28;01mraise\u001B[39;00m \u001B[38;5;167;01mKeyError\u001B[39;00m(\u001B[38;5;124mf\u001B[39m\u001B[38;5;124m\"\u001B[39m\u001B[38;5;124mNone of [\u001B[39m\u001B[38;5;132;01m{\u001B[39;00mkey\u001B[38;5;132;01m}\u001B[39;00m\u001B[38;5;124m] are in the [\u001B[39m\u001B[38;5;132;01m{\u001B[39;00maxis_name\u001B[38;5;132;01m}\u001B[39;00m\u001B[38;5;124m]\u001B[39m\u001B[38;5;124m\"\u001B[39m)\n\u001B[1;32m   6251\u001B[0m not_found \u001B[38;5;241m=\u001B[39m \u001B[38;5;28mlist\u001B[39m(ensure_index(key)[missing_mask\u001B[38;5;241m.\u001B[39mnonzero()[\u001B[38;5;241m0\u001B[39m]]\u001B[38;5;241m.\u001B[39munique())\n\u001B[0;32m-> 6252\u001B[0m \u001B[38;5;28;01mraise\u001B[39;00m \u001B[38;5;167;01mKeyError\u001B[39;00m(\u001B[38;5;124mf\u001B[39m\u001B[38;5;124m\"\u001B[39m\u001B[38;5;132;01m{\u001B[39;00mnot_found\u001B[38;5;132;01m}\u001B[39;00m\u001B[38;5;124m not in index\u001B[39m\u001B[38;5;124m\"\u001B[39m)\n",
      "\u001B[0;31mKeyError\u001B[0m: \"['entry price'] not in index\""
     ]
    }
   ],
   "execution_count": 5
  },
  {
   "cell_type": "code",
   "metadata": {
    "ExecuteTime": {
     "end_time": "2024-06-22T20:58:15.641174Z",
     "start_time": "2024-06-22T20:58:15.631967Z"
    }
   },
   "source": [
    "# 交易指標\n",
    "metrics_df = calc_metrics(processed_df)\n",
    "metrics_df"
   ],
   "outputs": [
    {
     "ename": "NameError",
     "evalue": "name 'processed_df' is not defined",
     "output_type": "error",
     "traceback": [
      "\u001B[0;31m---------------------------------------------------------------------------\u001B[0m",
      "\u001B[0;31mNameError\u001B[0m                                 Traceback (most recent call last)",
      "Cell \u001B[0;32mIn[6], line 2\u001B[0m\n\u001B[1;32m      1\u001B[0m \u001B[38;5;66;03m# 交易指標\u001B[39;00m\n\u001B[0;32m----> 2\u001B[0m metrics_df \u001B[38;5;241m=\u001B[39m calc_metrics(\u001B[43mprocessed_df\u001B[49m)\n\u001B[1;32m      3\u001B[0m metrics_df\n",
      "\u001B[0;31mNameError\u001B[0m: name 'processed_df' is not defined"
     ]
    }
   ],
   "execution_count": 6
  },
  {
   "cell_type": "code",
   "metadata": {
    "ExecuteTime": {
     "end_time": "2024-06-22T20:58:20.037937Z",
     "start_time": "2024-06-22T20:58:20.031313Z"
    }
   },
   "source": [
    "# 繪製圖表\n",
    "fig, ax = plot_chart(processed_df)\n",
    "plt.show()"
   ],
   "outputs": [
    {
     "ename": "NameError",
     "evalue": "name 'processed_df' is not defined",
     "output_type": "error",
     "traceback": [
      "\u001B[0;31m---------------------------------------------------------------------------\u001B[0m",
      "\u001B[0;31mNameError\u001B[0m                                 Traceback (most recent call last)",
      "Cell \u001B[0;32mIn[7], line 2\u001B[0m\n\u001B[1;32m      1\u001B[0m \u001B[38;5;66;03m# 繪製圖表\u001B[39;00m\n\u001B[0;32m----> 2\u001B[0m fig, ax \u001B[38;5;241m=\u001B[39m plot_chart(\u001B[43mprocessed_df\u001B[49m)\n\u001B[1;32m      3\u001B[0m plt\u001B[38;5;241m.\u001B[39mshow()\n",
      "\u001B[0;31mNameError\u001B[0m: name 'processed_df' is not defined"
     ]
    }
   ],
   "execution_count": 7
  },
  {
   "metadata": {},
   "cell_type": "code",
   "outputs": [],
   "execution_count": null,
   "source": ""
  }
 ],
 "metadata": {
  "kernelspec": {
   "display_name": "Python 3 (ipykernel)",
   "language": "python",
   "name": "python3"
  },
  "language_info": {
   "codemirror_mode": {
    "name": "ipython",
    "version": 3
   },
   "file_extension": ".py",
   "mimetype": "text/x-python",
   "name": "python",
   "nbconvert_exporter": "python",
   "pygments_lexer": "ipython3",
   "version": "3.9.13"
  }
 },
 "nbformat": 4,
 "nbformat_minor": 2
}
